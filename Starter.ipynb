{
 "cells": [
  {
   "cell_type": "code",
   "execution_count": 39,
   "metadata": {
    "colab": {
     "base_uri": "https://localhost:8080/",
     "height": 53
    },
    "colab_type": "code",
    "id": "di-k-cqcLRO1",
    "outputId": "22b9be54-e02f-47ed-a6c5-4e8755b4f670"
   },
   "outputs": [
    {
     "name": "stdout",
     "output_type": "stream",
     "text": [
      "Requirement already satisfied: deepspeech==0.6.1 in /usr/local/lib/python3.6/dist-packages (0.6.1)\n",
      "Requirement already satisfied: numpy>=1.7.0 in /usr/local/lib/python3.6/dist-packages (from deepspeech==0.6.1) (1.18.4)\n"
     ]
    }
   ],
   "source": [
    "pip install deepspeech==0.6.1"
   ]
  },
  {
   "cell_type": "code",
   "execution_count": 0,
   "metadata": {
    "colab": {},
    "colab_type": "code",
    "id": "YfZ6VYqAMYM4"
   },
   "outputs": [],
   "source": [
    "!apt-get install -qq sox"
   ]
  },
  {
   "cell_type": "markdown",
   "metadata": {
    "colab_type": "text",
    "id": "8Zucc5O8W9v1"
   },
   "source": [
    "Make a directory 'speech' and upload 3 files inside it: lm.binary, trie and retrained output_graph.pbmm "
   ]
  },
  {
   "cell_type": "code",
   "execution_count": 0,
   "metadata": {
    "colab": {},
    "colab_type": "code",
    "id": "J61HfQyqLwAc"
   },
   "outputs": [],
   "source": [
    "import deepspeech"
   ]
  },
  {
   "cell_type": "code",
   "execution_count": 42,
   "metadata": {
    "colab": {
     "base_uri": "https://localhost:8080/",
     "height": 217
    },
    "colab_type": "code",
    "id": "xxSDKwXoMC_i",
    "outputId": "d8f931f0-0bbf-425e-b975-58604b404483"
   },
   "outputs": [
    {
     "name": "stdout",
     "output_type": "stream",
     "text": [
      "Loading model from file speech/output_graph.pbmm\n",
      "TensorFlow: v1.14.0-21-ge77504a\n",
      "DeepSpeech: v0.6.1-0-g3df20fe\n",
      "2020-06-06 11:20:28.367238: I tensorflow/core/platform/cpu_feature_guard.cc:142] Your CPU supports instructions that this TensorFlow binary was not compiled to use: AVX2 FMA\n",
      "Loaded model in 0.00928s.\n",
      "Loading language model from files speech/lm.binary speech/trie\n",
      "Loaded language model in 18.9s.\n",
      "Warning: original sample rate (48000) is different than 16000hz. Resampling might produce erratic speech recognition.\n",
      "Running inference.\n",
      "thought but i am glad to see you again till\n",
      "Inference took 2.803s for 11.351s audio file.\n"
     ]
    }
   ],
   "source": [
    "!deepspeech --model speech/output_graph.pbmm --lm speech/lm.binary --trie speech/trie --audio /content/06_M_artic_01_004.wav"
   ]
  }
 ],
 "metadata": {
  "colab": {
   "name": "Starter",
   "provenance": []
  },
  "kernelspec": {
   "display_name": "Python 3",
   "language": "python",
   "name": "python3"
  },
  "language_info": {
   "codemirror_mode": {
    "name": "ipython",
    "version": 3
   },
   "file_extension": ".py",
   "mimetype": "text/x-python",
   "name": "python",
   "nbconvert_exporter": "python",
   "pygments_lexer": "ipython3",
   "version": "3.8.5"
  }
 },
 "nbformat": 4,
 "nbformat_minor": 1
}
